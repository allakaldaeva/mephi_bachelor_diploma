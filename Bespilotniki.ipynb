{
 "cells": [
  {
   "cell_type": "code",
   "execution_count": 124,
   "metadata": {},
   "outputs": [],
   "source": [
    "#подключаем нужные библиотеки\n",
    "import numpy as np\n",
    "import math\n",
    "from matplotlib import pyplot as plt\n",
    "from numpy import array\n",
    "from pprint import pprint \n",
    "import random as random\n",
    "from scipy import *\n",
    "from numpy.linalg import *\n"
   ]
  },
  {
   "cell_type": "code",
   "execution_count": 125,
   "metadata": {},
   "outputs": [],
   "source": [
    "#извлекаем данные из файлы\n",
    "dataknown = np.genfromtxt(\"dataknown.txt\", delimiter=' ', dtype=np.float)\n",
    "alldata = np.genfromtxt(\"alldata.txt\", delimiter=' ', dtype=np.float)"
   ]
  },
  {
   "cell_type": "code",
   "execution_count": 126,
   "metadata": {},
   "outputs": [],
   "source": [
    "#Классифицируем по взлетной массе БЛА:\n",
    "   # 1 класс: от 1000 до 1650 кг\n",
    "   # 2 класс: от 2400 до 6500 кг\n",
    "   # 3 класс: от 5300 до 10000 кг\n",
    "   # 4 класс: свыше 10000 кг\n",
    "    \n",
    "#Физический смысл координат\n",
    "    #1 - Отношение массы полезной нагрузки к взлетной массе БЛА\n",
    "    #2 - Продолжительность полета (ч)\n",
    "    #3 - Дальность полета (км)\n",
    "    #4 - Крейсерская скорость полета (км/ч)\n",
    "    #5 - Высота полета (практический потолок) (м)"
   ]
  },
  {
   "cell_type": "code",
   "execution_count": 127,
   "metadata": {},
   "outputs": [],
   "source": [
    "D = []\n",
    "X_star = np.eye(5)\n",
    "\n",
    "alpha = 0.01\n",
    "otn = []\n",
    "number = []\n",
    "i = 0\n",
    "otn_pogr = 0\n",
    "P = [0 for i in range(100)]\n",
    "a=[]\n",
    "b=[]\n",
    "c=[]"
   ]
  },
  {
   "cell_type": "code",
   "execution_count": 128,
   "metadata": {},
   "outputs": [],
   "source": [
    "for z in range (1,12): #количество точек, в которых знаем значение функции\n",
    "    #print(\"z=\",z)\n",
    "    X = [[0 for i in range(10)] for j in range(z)]\n",
    "    Diag = [[0 for i in range(5)] for j in range(5)]\n",
    "    \n",
    "    X[z-1] = [dataknown[(z-1),0], dataknown[(z-1),1],dataknown[(z-1),2], dataknown[(z-1),3], dataknown[(z-1),4]]\\\n",
    "    #считываем известные данные из файла\n",
    "    \n",
    "    P[0] = 95.1 #задаем значение функции в точке\n",
    "    P[1] = 62.56\n",
    "    P[2] = 72.44\n",
    "    P[3] = 82.48\n",
    "    P[4] = 0.5*20+0.02*25+0.48*30\n",
    "    P[5] = 0.5*100+0.02*100+0.48*95\n",
    "    P[6] = 0.5*50+0.02*55+0.48*60\n",
    "    P[7] = 0.5*100+0.02*90+0.48*85\n",
    "    P[8] = 0.5*50+0.02*55+0.48*55\n",
    "    P[9] = 0.5*100+0.02*100+0.48*95\n",
    "    P[10] = 0.5*20+0.02*25+0.48*20\n",
    "    \n",
    "    Y = P[0:z] #вектор из значений функции в точках\n",
    "    D.append(X[z-1]) #складываем все сгенерированные точки в массив\n",
    "    \n"
   ]
  },
  {
   "cell_type": "code",
   "execution_count": 129,
   "metadata": {},
   "outputs": [
    {
     "name": "stdout",
     "output_type": "stream",
     "text": [
      "37.25\n",
      "58.97\n",
      "60.59\n",
      "75.28\n",
      "43.56\n",
      "33.38\n",
      "55.05\n",
      "66.66\n",
      "51.53\n",
      "82.37\n",
      "78.27\n",
      "47.9\n",
      "58.22\n",
      "62.7\n",
      "67.42\n",
      "76.28\n",
      "76.42\n",
      "42.39\n",
      "52.21\n",
      "73.17\n",
      "72.29\n",
      "74.52\n",
      "49.39\n",
      "74.69\n",
      "59.81\n",
      "52.61\n",
      "45.52\n",
      "64.57\n",
      "47.24\n",
      "39.62\n",
      "44.12\n",
      "33.14\n",
      "83.39\n",
      "52.09\n",
      "83.35\n",
      "35.67\n",
      "26.02\n",
      "57.61\n",
      "69.37\n",
      "97.27\n",
      "87.35\n",
      "88.05\n",
      "78.45\n",
      "35.66\n",
      "33.56\n",
      "72.49\n",
      "97.34\n",
      "33.63\n",
      "63.88\n",
      "55.05\n",
      "41.12\n",
      "52.32\n",
      "53.32\n",
      "88.68\n",
      "52.17\n",
      "69.53\n",
      "64.65\n",
      "67.8\n",
      "67.1\n",
      "35.82\n",
      "36.06\n",
      "30.99\n",
      "41.69\n",
      "48.62\n",
      "51.74\n",
      "85.93\n",
      "[]\n",
      "[37.25, 58.97, 60.59, 75.28, 43.56, 33.38, 55.05, 66.66, 51.53, 82.37, 78.27, 47.9, 58.22, 62.7, 67.42, 76.28, 76.42, 42.39, 52.21, 73.17, 72.29, 74.52, 49.39, 74.69, 59.81, 52.61, 45.52, 64.57, 47.24, 39.62, 44.12, 33.14, 83.39, 52.09, 83.35, 35.67, 26.02, 57.61, 69.37, 97.27, 87.35, 88.05, 78.45, 35.66, 33.56, 72.49, 97.34, 33.63, 63.88, 55.05, 41.12, 52.32, 53.32, 88.68, 52.17, 69.53, 64.65, 67.8, 67.1, 35.82, 36.06, 30.99, 41.69, 48.62, 51.74, 85.93]\n"
     ]
    }
   ],
   "source": [
    "for z in range (0,66):\n",
    "    X_star = [alldata[z,0], alldata[z,1], alldata[z,2], alldata[z,3], alldata[z,4]]\n",
    "    \n",
    "    #блок подсчета весов\n",
    "    weight = [0 for i in range (5)]\n",
    "    weight_wave = [0 for i in range (5)]\n",
    "    W_wave = [[0 for i in range(11)] for j in range(11)]\n",
    "    W_wave0 = [[0 for i in range(11)] for j in range(11)]\n",
    "    W_wave1 = [[0 for i in range(11)] for j in range(11)]\n",
    "    W_wave2 = [[0 for i in range(11)] for j in range(11)] \n",
    "    W_wave3 = [[0 for i in range(11)] for j in range(11)]\n",
    "    W_wave4 = [[0 for i in range(11)] for j in range(11)]\n",
    "  \n",
    "    for i in range(11):\n",
    "        for j in range(11):\n",
    "            W_wave[i][j] = (D[i][0] - X_star[0])*(D[j][0]-X_star[0]) + \\\n",
    "            (D[i][1] - X_star[1])*(D[j][1]-X_star[1]) + (D[i][2] - X_star[2])*(D[j][2]-X_star[2]) + \\\n",
    "            (D[i][3] - X_star[3])*(D[j][3]-X_star[3]) + (D[i][4] - X_star[4])*(D[j][4]-X_star[4]) \n",
    "           \n",
    "            \n",
    "    for i in range(11):\n",
    "        for j in range(11):\n",
    "            W_wave0[i][j] = (D[i][1] - X_star[1])*(D[j][1]-X_star[1]) + (D[i][2] - X_star[2])*(D[j][2]-X_star[2]) + \\\n",
    "            (D[i][3] - X_star[3])*(D[j][3]-X_star[3]) + (D[i][4] - X_star[4])*(D[j][4]-X_star[4]) \n",
    "            \n",
    "            \n",
    "            W_wave1[i][j] = (D[i][0] - X_star[0])*(D[j][0]-X_star[0]) + (D[i][2] - X_star[2])*(D[j][2]-X_star[2]) + \\\n",
    "            (D[i][3] - X_star[3])*(D[j][3]-X_star[3]) + (D[i][4] - X_star[4])*(D[j][4]-X_star[4]) \n",
    "            \n",
    "            W_wave2[i][j] = (D[i][0] - X_star[0])*(D[j][0]-X_star[0]) + (D[i][1] - X_star[1])*(D[j][1]-X_star[1]) + \\\n",
    "            (D[i][3] - X_star[3])*(D[j][3]-X_star[3]) + (D[i][4] - X_star[4])*(D[j][4]-X_star[4]) \n",
    "            \n",
    "            W_wave3[i][j] = (D[i][0] - X_star[0])*(D[j][0]-X_star[0]) + (D[i][1] - X_star[1])*(D[j][1]-X_star[1]) + \\\n",
    "            (D[i][2] - X_star[2])*(D[j][2]-X_star[2]) + (D[i][4] - X_star[4])*(D[j][4]-X_star[4]) \n",
    "            \n",
    "            W_wave4[i][j] = (D[i][0] - X_star[0])*(D[j][0]-X_star[0]) + (D[i][1] - X_star[1])*(D[j][1]-X_star[1]) + \\\n",
    "            (D[i][2] - X_star[2])*(D[j][2]-X_star[2]) + (D[i][3] - X_star[3])*(D[j][3]-X_star[3])\n",
    "            \n",
    "    E1 = [1 for g in range (11)] \n",
    "    Y_star0 = (np.dot(np.dot(linalg.inv(W_wave0+ np.eye(11)*0.01),E1),Y))/(np.dot(np.dot(linalg.inv(W_wave0+ np.eye(11)*0.01),E1),E1))\n",
    "    Y_star1 = (np.dot(np.dot(linalg.inv(W_wave1+ np.eye(11)*0.01),E1),Y))/(np.dot(np.dot(linalg.inv(W_wave1+ np.eye(11)*0.01),E1),E1))\n",
    "    Y_star2 = (np.dot(np.dot(linalg.inv(W_wave2+ np.eye(11)*0.01),E1),Y))/(np.dot(np.dot(linalg.inv(W_wave2+ np.eye(11)*0.01),E1),E1)) \n",
    "    Y_star3 = (np.dot(np.dot(linalg.inv(W_wave3+ np.eye(11)*0.01),E1),Y))/(np.dot(np.dot(linalg.inv(W_wave3+ np.eye(11)*0.01),E1),E1))\n",
    "    Y_star4 = (np.dot(np.dot(linalg.inv(W_wave4+ np.eye(11)*0.01),E1),Y))/(np.dot(np.dot(linalg.inv(W_wave4+ np.eye(11)*0.01),E1),E1))\n",
    "    \n",
    "    Y_star_wave = (np.dot(np.dot(linalg.inv(W_wave + np.eye(11)*0.01),E1),Y))/(np.dot(np.dot(linalg.inv(W_wave+ np.eye(11)*0.01),E1),E1)) \n",
    "    \n",
    "    weight_wave[0] = (Y_star0 - Y_star_wave)**2\n",
    "    weight_wave[1] = (Y_star1 - Y_star_wave)**2\n",
    "    weight_wave[2] = (Y_star2 - Y_star_wave)**2        \n",
    "    weight_wave[3] = (Y_star3 - Y_star_wave)**2\n",
    "    weight_wave[4] = (Y_star4 - Y_star_wave)**2\n",
    "  \n",
    "    \n",
    "    for k in range(5):   \n",
    "        weight[k] = 5*weight_wave[k]/(weight_wave[0] + weight_wave[1]+ weight_wave[2]+ weight_wave[3] +\\\n",
    "                                      weight_wave[4])\n",
    "    for i in range(5):\n",
    "        for j in range(5):\n",
    "            Diag[i][i]=weight[i]\n",
    "        \n",
    "    X_matrix = [[0 for i in range(5)] for j in range(11)]\n",
    "    X_matrix_t = [[0 for i in range(11)] for i in range(5)]\n",
    "    \n",
    "    for j in range (11):\n",
    "        for i in range (5):\n",
    "            X_matrix[j][i] = D[j][i] - X_star[i]\n",
    "    \n",
    "    X_matrix_t = list(zip(*X_matrix)) #транспонирование\n",
    "       \n",
    "    W = np.dot (np.dot(X_matrix,Diag), X_matrix_t) #перемножаем транспонированную на обычную\n",
    "    \n",
    "    for i in range (11):\n",
    "        W[i][i] += alpha #к диагональным элементам прибавляем альфу\n",
    "    V = [[0 for i in range (11)] for j in range (11)]    \n",
    "    V = linalg.inv(W) # обратная матрица\n",
    "    \n",
    "    E = [1 for g in range (11)] #единичный вектор \n",
    "    V1 = np.dot(V, E)\n",
    "    V2 = np.dot(V1,E)\n",
    "    V3 = np.dot(V1, Y)\n",
    "    print(round(V3/V2,2))\n",
    "   \n",
    "    X_matrix = [[0 for i in range(5)] for j in range(z)]\n",
    "    #print(\"___________________________\")\n",
    "   \n",
    "    "
   ]
  },
  {
   "cell_type": "code",
   "execution_count": 121,
   "metadata": {},
   "outputs": [
    {
     "data": {
      "text/plain": [
       "4.072321052631578"
      ]
     },
     "execution_count": 121,
     "metadata": {},
     "output_type": "execute_result"
    }
   ],
   "source": [
    "a = 1/19 *((35.45-37.33)**2+(57.94-58.89)**2+ (59.12-60.56)**2+ (74.23-75.37)**2+(45.27-43.78)**2+ (32.14-33.52)**2+ (56.53-55.24)**2+ (66.96-66.61)**2 +(53.08-51.58)**2+(100.00-95.00)**2+ (81.13-78.16)**2+(65.00-62.67)**2+(59.24-58.33)**2+ (70.00-72.33)**2+(67.53-67.47)**2+ (76.13-76.53)**2+ (80.00-83.00)**2+ (40.56-42.91)**2+ (53.54-52.44)**2)\n",
    "a"
   ]
  },
  {
   "cell_type": "code",
   "execution_count": 122,
   "metadata": {},
   "outputs": [
    {
     "data": {
      "text/plain": [
       "0.1940368421052629"
      ]
     },
     "execution_count": 122,
     "metadata": {},
     "output_type": "execute_result"
    }
   ],
   "source": [
    "1/19 *((37.51-37.33)**2+(58.73-58.89)**2+ (60.47-60.56)**2+ (75.59-75.37)**2+(44.24-43.78)**2+ (33.77-33.52)**2+ (55.65-55.24)**2+ (66.57-66.61)**2+ (51.71-51.58)**2+(95.00-95.00)**2+ (77.91-78.16)**2+ (63.00-62.67)**2+(58.54-58.33)**2+ (72.00-72.33)**2+(67.58-67.47)**2+ (77.10-76.53)**2+ (84.00-83.00)**2+ (44.01-42.91)**2+ (52.93-52.44)**2 )"
   ]
  },
  {
   "cell_type": "code",
   "execution_count": 123,
   "metadata": {},
   "outputs": [
    {
     "data": {
      "text/plain": [
       "3.9022210526315813"
      ]
     },
     "execution_count": 123,
     "metadata": {},
     "output_type": "execute_result"
    }
   ],
   "source": [
    "1/19 *((39.04-37.33)**2+(59.99-58.89)**2+ (62.09-60.56)**2+ (76.29-75.37)**2+(41.83-43.78)**2+ (34.66-33.52)**2+ (53.54-55.24)**2+ (66.31-66.61)**2 + (49.94-51.58)**2+(90.00-95.00)**2+ (75.44-78.16)**2+(60.00-62.67)**2+(57.21-58.33)**2+ (75.00-72.33)**2+(67.31-67.47)**2+ (76.36-76.53)**2+ (85.00-83.00)**2+ (44.17-42.91)**2+ (50.86-52.44)**2 )"
   ]
  },
  {
   "cell_type": "code",
   "execution_count": null,
   "metadata": {},
   "outputs": [],
   "source": []
  }
 ],
 "metadata": {
  "kernelspec": {
   "display_name": "Python 3",
   "language": "python",
   "name": "python3"
  },
  "language_info": {
   "codemirror_mode": {
    "name": "ipython",
    "version": 3
   },
   "file_extension": ".py",
   "mimetype": "text/x-python",
   "name": "python",
   "nbconvert_exporter": "python",
   "pygments_lexer": "ipython3",
   "version": "3.8.8"
  }
 },
 "nbformat": 4,
 "nbformat_minor": 4
}
